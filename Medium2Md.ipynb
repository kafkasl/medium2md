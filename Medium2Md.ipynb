{
 "cells": [
  {
   "cell_type": "code",
   "execution_count": 1,
   "metadata": {},
   "outputs": [],
   "source": [
    "import httpx\n",
    "from fastcore.utils import first, last, L\n",
    "import html2text"
   ]
  },
  {
   "cell_type": "markdown",
   "metadata": {},
   "source": [
    "# Medium To Markdown\n",
    "\n",
    "I want to migrate my Medium post into Markdown so what we will do is try to extract the content of each of my posts in Medium and then the content of each post will be converted into Markdown."
   ]
  },
  {
   "cell_type": "code",
   "execution_count": 2,
   "metadata": {},
   "outputs": [
    {
     "data": {
      "text/plain": [
       "'<!doctype html><html lang=\"en\"><head><title data-rh=\"true\">Pol Alvarez Vecino – Medium</title><meta data-rh=\"true\" charset=\"utf-8\"/><meta data-rh=\"true\" name=\"viewport\" content=\"width=device-width,minimum-scale=1,initial-scale=1,maximum-scale=1\"/><meta data-rh=\"true\" name=\"theme-color\" content=\"#000000\"/><meta data-rh=\"true\" name=\"twitter:app:name:iphone\" content=\"Medium\"/><meta data-rh=\"true\" name=\"twitter:app:id:iphone\" content=\"828256236\"/><meta data-rh=\"true\" property=\"al:ios:app_name\" content=\"Medium\"/><meta data-rh=\"true\" property=\"al:ios:app_store_id\" content=\"828256236\"/><meta data-rh='"
      ]
     },
     "execution_count": 2,
     "metadata": {},
     "output_type": "execute_result"
    }
   ],
   "source": [
    "url = \"https://medium.com/@pol.avec\"\n",
    "r = httpx.get(url)\n",
    "r.text[:600]"
   ]
  },
  {
   "cell_type": "markdown",
   "metadata": {},
   "source": [
    "**AI Prompt**\n",
    "\n",
    "Could you help me use beautiful soup to extract the titles of each of the articles? They are placed inside the <article> tag and some children below, like this: <div role=\"link\" data-href=\"https://medium.com/@pol.avec/why-give-ai-agents-access-to-money-be460a819a9c\" tabindex=\"0\" style=\"position: relative; display: flex;\">"
   ]
  },
  {
   "cell_type": "markdown",
   "metadata": {},
   "source": [
    "**AI Response**\n",
    "\n",
    "I'll help you extract the article titles using BeautifulSoup. Let's do this step by step:\n",
    "\n",
    "1. First, let's import BeautifulSoup and parse the HTML:\n",
    "\n",
    "```python\n",
    "from bs4 import BeautifulSoup\n",
    "\n",
    "soup = BeautifulSoup(r.text, 'html.parser')\n",
    "```\n",
    "\n",
    "2. Let's try to find all article elements and then locate the titles:\n",
    "\n",
    "```python\n",
    "articles = soup.find_all('article')\n",
    "for article in articles:\n",
    "    # Find div with role=\"link\"\n",
    "    link_div = article.find('div', attrs={'role': 'link'})\n",
    "    if link_div:\n",
    "        print(\"Found link:\", link_div.get('data-href'))\n",
    "        # Try to find the title text within this div\n",
    "        title = link_div.get_text(strip=True)\n",
    "        print(\"Title:\", title)\n",
    "    print(\"---\")\n",
    "```\n",
    "\n",
    "Let's run this and see what we get. If we need to adjust the selectors, we can modify them based on the output. The structure of Medium's HTML can be a bit complex and might require some trial and error to get exactly what we want.\n",
    "\n",
    "Would you like to try this first step and let me know what output you get? Then we can refine the approach if needed."
   ]
  },
  {
   "cell_type": "code",
   "execution_count": 3,
   "metadata": {},
   "outputs": [
    {
     "data": {
      "text/plain": [
       "4"
      ]
     },
     "execution_count": 3,
     "metadata": {},
     "output_type": "execute_result"
    }
   ],
   "source": [
    "from bs4 import BeautifulSoup\n",
    "\n",
    "soup = BeautifulSoup(r.text, 'html.parser')\n",
    "articles = soup.find_all('article')\n",
    "len(articles)"
   ]
  },
  {
   "cell_type": "code",
   "execution_count": 4,
   "metadata": {},
   "outputs": [
    {
     "data": {
      "text/plain": [
       "('https://medium.com/@pol.avec/why-give-ai-agents-access-to-money-be460a819a9c',\n",
       " 'Why Give AI Agents Access to Money?')"
      ]
     },
     "execution_count": 4,
     "metadata": {},
     "output_type": "execute_result"
    }
   ],
   "source": [
    "def extract(article):\n",
    "    link_div = article.find('div', attrs={'role': 'link'})\n",
    "    return link_div.get('data-href'), link_div.find('h2').get_text(strip=True)\n",
    "extract(first(articles))"
   ]
  },
  {
   "cell_type": "code",
   "execution_count": 5,
   "metadata": {},
   "outputs": [
    {
     "data": {
      "text/plain": [
       "(#4) [('https://medium.com/@pol.avec/why-give-ai-agents-access-to-money-be460a819a9c', 'Why Give AI Agents Access to Money?'),('https://medium.com/@pol.avec/building-apps-no-one-needs-dogfooding-hammers-and-over-engineering-5689c5e265c1', 'Building apps no one needs: Dogfooding, Hammers and Over Engineering'),('https://medium.com/@pol.avec/from-text-to-actions-llms-as-the-new-software-consumers-8dc5fd065623', 'From text to actions: LLMs as the new software consumers'),('https://medium.com/@pol.avec/how-i-validated-a-gmail-ai-assistant-in-under-a-week-with-chatgpt-d33213d6fd0d', 'How I Validated a Gmail AI Assistant in Under a Week with ChatGPT')]"
      ]
     },
     "execution_count": 5,
     "metadata": {},
     "output_type": "execute_result"
    }
   ],
   "source": [
    "arts = L(articles).map(extract)\n",
    "arts"
   ]
  },
  {
   "cell_type": "code",
   "execution_count": 6,
   "metadata": {},
   "outputs": [],
   "source": [
    "r = httpx.get(arts[1][0])"
   ]
  },
  {
   "cell_type": "code",
   "execution_count": 7,
   "metadata": {},
   "outputs": [
    {
     "data": {
      "text/plain": [
       "[<source sizes=\"(min-resolution: 4dppx) and (max-width: 700px) 50vw, (-webkit-min-device-pixel-ratio: 4) and (max-width: 700px) 50vw, (min-resolution: 3dppx) and (max-width: 700px) 67vw, (-webkit-min-device-pixel-ratio: 3) and (max-width: 700px) 65vw, (min-resolution: 2.5dppx) and (max-width: 700px) 80vw, (-webkit-min-device-pixel-ratio: 2.5) and (max-width: 700px) 80vw, (min-resolution: 2dppx) and (max-width: 700px) 100vw, (-webkit-min-device-pixel-ratio: 2) and (max-width: 700px) 100vw, 700px\" srcset=\"https://miro.medium.com/v2/resize:fit:640/format:webp/1*mjRPB7HiX7dsX_2ZzMOJFA.png 640w, https://miro.medium.com/v2/resize:fit:720/format:webp/1*mjRPB7HiX7dsX_2ZzMOJFA.png 720w, https://miro.medium.com/v2/resize:fit:750/format:webp/1*mjRPB7HiX7dsX_2ZzMOJFA.png 750w, https://miro.medium.com/v2/resize:fit:786/format:webp/1*mjRPB7HiX7dsX_2ZzMOJFA.png 786w, https://miro.medium.com/v2/resize:fit:828/format:webp/1*mjRPB7HiX7dsX_2ZzMOJFA.png 828w, https://miro.medium.com/v2/resize:fit:1100/format:webp/1*mjRPB7HiX7dsX_2ZzMOJFA.png 1100w, https://miro.medium.com/v2/resize:fit:1400/format:webp/1*mjRPB7HiX7dsX_2ZzMOJFA.png 1400w\" type=\"image/webp\"/>,\n",
       " <source sizes=\"(min-resolution: 4dppx) and (max-width: 700px) 50vw, (-webkit-min-device-pixel-ratio: 4) and (max-width: 700px) 50vw, (min-resolution: 3dppx) and (max-width: 700px) 67vw, (-webkit-min-device-pixel-ratio: 3) and (max-width: 700px) 65vw, (min-resolution: 2.5dppx) and (max-width: 700px) 80vw, (-webkit-min-device-pixel-ratio: 2.5) and (max-width: 700px) 80vw, (min-resolution: 2dppx) and (max-width: 700px) 100vw, (-webkit-min-device-pixel-ratio: 2) and (max-width: 700px) 100vw, 700px\" srcset=\"https://miro.medium.com/v2/resize:fit:640/format:webp/1*x9KHym2NjNpINIXn1dlXpg.png 640w, https://miro.medium.com/v2/resize:fit:720/format:webp/1*x9KHym2NjNpINIXn1dlXpg.png 720w, https://miro.medium.com/v2/resize:fit:750/format:webp/1*x9KHym2NjNpINIXn1dlXpg.png 750w, https://miro.medium.com/v2/resize:fit:786/format:webp/1*x9KHym2NjNpINIXn1dlXpg.png 786w, https://miro.medium.com/v2/resize:fit:828/format:webp/1*x9KHym2NjNpINIXn1dlXpg.png 828w, https://miro.medium.com/v2/resize:fit:1100/format:webp/1*x9KHym2NjNpINIXn1dlXpg.png 1100w, https://miro.medium.com/v2/resize:fit:1400/format:webp/1*x9KHym2NjNpINIXn1dlXpg.png 1400w\" type=\"image/webp\"/>]"
      ]
     },
     "execution_count": 7,
     "metadata": {},
     "output_type": "execute_result"
    }
   ],
   "source": [
    "soup = BeautifulSoup(r.text, 'html.parser')\n",
    "webp_sources = soup.find_all('source', attrs={'type': 'image/webp'})\n",
    "webp_sources"
   ]
  },
  {
   "cell_type": "markdown",
   "metadata": {},
   "source": [
    "**AI Prompt**\n",
    "\n",
    "now I need to extract the image name for each source set. There are multiple versions but the file name is always the same for each source. For example, from \"https://miro.medium.com/v2/resize:fit:640/format:webp/1*mjRPB7HiX7dsX_2ZzMOJFA.png\" I want to extract \"1*mjRPB7HiX7dsX_2ZzMOJFA.png\""
   ]
  },
  {
   "cell_type": "markdown",
   "metadata": {},
   "source": [
    "**AI Response**\n",
    "\n",
    "I'll help you extract the image filenames from the source sets. Here's how we can do it:\n",
    "\n",
    "```python\n",
    "def get_image_name(source):\n",
    "    # Get the srcset attribute\n",
    "    srcset = source['srcset']\n",
    "    # Take the first URL (they all have same filename)\n",
    "    first_url = srcset.split()[0]\n",
    "    # Get the filename after the last '/'\n",
    "    return first_url.split('/')[-1]\n",
    "\n",
    "# Get all unique image names\n",
    "image_names = L(webp_sources).map(get_image_name)\n",
    "image_names\n",
    "```\n",
    "\n",
    "This will extract the filename from each source. The `map` function will apply our `get_image_name` function to each source element. Try running this and let me know if you need any adjustments!"
   ]
  },
  {
   "cell_type": "code",
   "execution_count": 8,
   "metadata": {},
   "outputs": [
    {
     "data": {
      "text/plain": [
       "(#2) ['https://miro.medium.com/1*mjRPB7HiX7dsX_2ZzMOJFA.png','https://miro.medium.com/1*x9KHym2NjNpINIXn1dlXpg.png']"
      ]
     },
     "execution_count": 8,
     "metadata": {},
     "output_type": "execute_result"
    }
   ],
   "source": [
    "def get_images(source):\n",
    "    name = source['srcset'].split()[0].split('/')[-1]\n",
    "    return f\"https://miro.medium.com/{name}\"\n",
    "\n",
    "\n",
    "imgs = L(webp_sources).map(get_images)\n",
    "imgs"
   ]
  },
  {
   "cell_type": "markdown",
   "metadata": {},
   "source": [
    "**AI Prompt**\n",
    "\n",
    "now let's extract the page into markdown text using a library"
   ]
  },
  {
   "cell_type": "markdown",
   "metadata": {},
   "source": [
    "**AI Response**\n",
    "\n",
    "We can use the `html2text` library to convert the HTML content into Markdown. Let's install and use it:\n",
    "\n",
    "```python\n",
    "!pip install html2text\n",
    "import html2text\n",
    "\n",
    "# Create converter instance\n",
    "h = html2text.HTML2Text()\n",
    "h.ignore_links = False\n",
    "h.ignore_images = False\n",
    "\n",
    "# Get the main article content (Medium usually has the article in an 'article' tag)\n",
    "article = soup.find('article')\n",
    "if article:\n",
    "    markdown_content = h.handle(str(article))\n",
    "    print(markdown_content[:500])  # Let's look at the first 500 chars to see how it looks\n",
    "```\n",
    "\n",
    "This should convert the HTML content to Markdown while preserving links and images. If this doesn't give us exactly what we want, we might need to adjust some settings of the HTML2Text converter or we could try alternative approaches like targeting specific content sections. Let me know how this works and we can refine it if needed!"
   ]
  },
  {
   "cell_type": "markdown",
   "metadata": {},
   "source": [
    "**AI Prompt**\n",
    "\n",
    "the article actually starts after the element <figure> (not inside it, but its siblings). Also, let's display the markdown using IPython"
   ]
  },
  {
   "cell_type": "markdown",
   "metadata": {},
   "source": [
    "**AI Response**\n",
    "\n",
    "Let's modify our approach to get the content after the `<figure>` element and display it nicely using IPython:\n",
    "\n",
    "```python\n",
    "from IPython.display import Markdown\n",
    "\n",
    "# Find the figure element\n",
    "figure = soup.find('figure')\n",
    "\n",
    "# Get all the content after the figure\n",
    "content = []\n",
    "for elem in figure.find_next_siblings():\n",
    "    content.append(str(elem))\n",
    "\n",
    "# Convert to markdown\n",
    "h = html2text.HTML2Text()\n",
    "h.ignore_links = False\n",
    "h.ignore_images = False\n",
    "markdown_content = h.handle(''.join(content))\n",
    "\n",
    "# Display using IPython's Markdown\n",
    "display(Markdown(markdown_content))\n",
    "```\n",
    "\n",
    "This should give us a cleaner version of the article with proper Markdown formatting. Let's try it and see how it looks!"
   ]
  },
  {
   "cell_type": "code",
   "execution_count": 9,
   "metadata": {},
   "outputs": [
    {
     "data": {
      "text/plain": [
       "'So, I had this brilliant idea for a platform. Spen'"
      ]
     },
     "execution_count": 9,
     "metadata": {},
     "output_type": "execute_result"
    }
   ],
   "source": [
    "def get_md(soup):\n",
    "    content = []\n",
    "    for elem in  soup.find('figure').find_next_siblings():\n",
    "        content.append(str(elem))\n",
    "\n",
    "    h = html2text.HTML2Text()\n",
    "    return h.handle(''.join(content))\n",
    "get_md(soup)[:50]"
   ]
  },
  {
   "cell_type": "code",
   "execution_count": 10,
   "metadata": {},
   "outputs": [
    {
     "data": {
      "text/plain": [
       "(#2) ['https://miro.medium.com/1*mjRPB7HiX7dsX_2ZzMOJFA.png','https://miro.medium.com/1*x9KHym2NjNpINIXn1dlXpg.png']"
      ]
     },
     "execution_count": 10,
     "metadata": {},
     "output_type": "execute_result"
    }
   ],
   "source": [
    "def get_img_md(soup):\n",
    "    img = L(soup.find_all('source', attrs={'type': 'image/webp'})).map(get_images)\n",
    "    md = get_md(soup)\n",
    "    return img, md\n",
    "i,m = get_img_md(soup)\n",
    "i"
   ]
  },
  {
   "cell_type": "code",
   "execution_count": 11,
   "metadata": {},
   "outputs": [
    {
     "data": {
      "text/markdown": [
       "```json\n",
       "{ 'content': 'The current wave of AI automation largely focuses on optimizing '\n",
       "             'existing\\n'\n",
       "             'workflows — making them faster, more efficient, or better '\n",
       "             'tailored to user\\n'\n",
       "             'needs. While valuable, this approach merely scratches the '\n",
       "             'surface of AI’s\\n'\n",
       "             'potential. The real revolution lies in enabling AI to drive '\n",
       "             'genuine innovation\\n'\n",
       "             'by participating directly in the market economy.\\n'\n",
       "             '\\n'\n",
       "             'True innovation in a market economy means finding novel '\n",
       "             'applications for\\n'\n",
       "             'limited resources that create more value than they consume. For '\n",
       "             'AI to do this,\\n'\n",
       "             'it needs more than just the ability to analyze — it needs to '\n",
       "             'effect change in\\n'\n",
       "             'the world. And in our economy, that requires the ability to pay '\n",
       "             'for resources.\\n'\n",
       "             '\\n'\n",
       "             'The key transformation is from AI-as-tools to AI-as-innovators. '\n",
       "             'When we treat\\n'\n",
       "             'AI as tools, we limit them to optimizing what exists. But '\n",
       "             'innovators need\\n'\n",
       "             'capital — to acquire and experiment with resources freely. By '\n",
       "             'giving AI agents\\n'\n",
       "             'both the ability to discover new tools at runtime and deploy '\n",
       "             'capital to use\\n'\n",
       "             'them, we transform them from optimization engines into genuine '\n",
       "             'innovators.\\n'\n",
       "             '\\n'\n",
       "             'Consider Replit’s AI agents that can build software tools '\n",
       "             'independently. While\\n'\n",
       "             'powerful, they’re still limited by their inability to access '\n",
       "             'paid services or\\n'\n",
       "             'APIs they might need without human supervision. Imagine instead '\n",
       "             'if these\\n'\n",
       "             'agents could discover and integrate new APIs at runtime, pay for '\n",
       "             'necessary\\n'\n",
       "             'cloud resources, or even hire other AI services to solve parts '\n",
       "             'of the problem.\\n'\n",
       "             'That’s when we’ll see true AI-driven innovation.\\n'\n",
       "             '\\n'\n",
       "             'This isn’t about making existing processes better. It’s about '\n",
       "             'enabling AI to\\n'\n",
       "             'create things we haven’t imagined yet. By giving AI agents both '\n",
       "             'the tools to\\n'\n",
       "             'discover new possibilities and the capital to pursue them, we’re '\n",
       "             'enabling them\\n'\n",
       "             'to help create the future.\\n'\n",
       "             '\\n',\n",
       "  'imgs': ['https://miro.medium.com/1*nIukoXOaNmaVjaV93QTpsA.png'],\n",
       "  'title': 'Why Give AI Agents Access to Money?',\n",
       "  'url': 'https://medium.com/@pol.avec/why-give-ai-agents-access-to-money-be460a819a9c'}\n",
       "```"
      ],
      "text/plain": [
       "{'url': 'https://medium.com/@pol.avec/why-give-ai-agents-access-to-money-be460a819a9c',\n",
       " 'title': 'Why Give AI Agents Access to Money?',\n",
       " 'imgs': (#1) ['https://miro.medium.com/1*nIukoXOaNmaVjaV93QTpsA.png'],\n",
       " 'content': 'The current wave of AI automation largely focuses on optimizing existing\\nworkflows — making them faster, more efficient, or better tailored to user\\nneeds. While valuable, this approach merely scratches the surface of AI’s\\npotential. The real revolution lies in enabling AI to drive genuine innovation\\nby participating directly in the market economy.\\n\\nTrue innovation in a market economy means finding novel applications for\\nlimited resources that create more value than they consume. For AI to do this,\\nit needs more than just the ability to analyze — it needs to effect change in\\nthe world. And in our economy, that requires the ability to pay for resources.\\n\\nThe key transformation is from AI-as-tools to AI-as-innovators. When we treat\\nAI as tools, we limit them to optimizing what exists. But innovators need\\ncapital — to acquire and experiment with resources freely. By giving AI agents\\nboth the ability to discover new tools at runtime and deploy capital to use\\nthem, we transform them from optimization engines into genuine innovators.\\n\\nConsider Replit’s AI agents that can build software tools independently. While\\npowerful, they’re still limited by their inability to access paid services or\\nAPIs they might need without human supervision. Imagine instead if these\\nagents could discover and integrate new APIs at runtime, pay for necessary\\ncloud resources, or even hire other AI services to solve parts of the problem.\\nThat’s when we’ll see true AI-driven innovation.\\n\\nThis isn’t about making existing processes better. It’s about enabling AI to\\ncreate things we haven’t imagined yet. By giving AI agents both the tools to\\ndiscover new possibilities and the capital to pursue them, we’re enabling them\\nto help create the future.\\n\\n'}"
      ]
     },
     "execution_count": 11,
     "metadata": {},
     "output_type": "execute_result"
    }
   ],
   "source": [
    "from fastcore.xtras import dict2obj\n",
    "\n",
    "def parse(el):\n",
    "    url, title = el\n",
    "    r = httpx.get(url)\n",
    "    soup = BeautifulSoup(r.text, 'html.parser')\n",
    "    imgs,md = get_img_md(soup)\n",
    "    return dict2obj(dict(url=url, title=title, imgs=imgs, content=md))\n",
    "parse(first(arts))"
   ]
  },
  {
   "cell_type": "code",
   "execution_count": 14,
   "metadata": {},
   "outputs": [
    {
     "data": {
      "text/markdown": [
       "```json\n",
       "{ 'content': 'The current wave of AI automation largely focuses on optimizing '\n",
       "             'existing\\n'\n",
       "             'workflows — making them faster, more efficient, or better '\n",
       "             'tailored to user\\n'\n",
       "             'needs. While valuable, this approach merely scratches the '\n",
       "             'surface of AI’s\\n'\n",
       "             'potential. The real revolution lies in enabling AI to drive '\n",
       "             'genuine innovation\\n'\n",
       "             'by participating directly in the market economy.\\n'\n",
       "             '\\n'\n",
       "             'True innovation in a market economy means finding novel '\n",
       "             'applications for\\n'\n",
       "             'limited resources that create more value than they consume. For '\n",
       "             'AI to do this,\\n'\n",
       "             'it needs more than just the ability to analyze — it needs to '\n",
       "             'effect change in\\n'\n",
       "             'the world. And in our economy, that requires the ability to pay '\n",
       "             'for resources.\\n'\n",
       "             '\\n'\n",
       "             'The key transformation is from AI-as-tools to AI-as-innovators. '\n",
       "             'When we treat\\n'\n",
       "             'AI as tools, we limit them to optimizing what exists. But '\n",
       "             'innovators need\\n'\n",
       "             'capital — to acquire and experiment with resources freely. By '\n",
       "             'giving AI agents\\n'\n",
       "             'both the ability to discover new tools at runtime and deploy '\n",
       "             'capital to use\\n'\n",
       "             'them, we transform them from optimization engines into genuine '\n",
       "             'innovators.\\n'\n",
       "             '\\n'\n",
       "             'Consider Replit’s AI agents that can build software tools '\n",
       "             'independently. While\\n'\n",
       "             'powerful, they’re still limited by their inability to access '\n",
       "             'paid services or\\n'\n",
       "             'APIs they might need without human supervision. Imagine instead '\n",
       "             'if these\\n'\n",
       "             'agents could discover and integrate new APIs at runtime, pay for '\n",
       "             'necessary\\n'\n",
       "             'cloud resources, or even hire other AI services to solve parts '\n",
       "             'of the problem.\\n'\n",
       "             'That’s when we’ll see true AI-driven innovation.\\n'\n",
       "             '\\n'\n",
       "             'This isn’t about making existing processes better. It’s about '\n",
       "             'enabling AI to\\n'\n",
       "             'create things we haven’t imagined yet. By giving AI agents both '\n",
       "             'the tools to\\n'\n",
       "             'discover new possibilities and the capital to pursue them, we’re '\n",
       "             'enabling them\\n'\n",
       "             'to help create the future.\\n'\n",
       "             '\\n',\n",
       "  'imgs': ['https://miro.medium.com/1*nIukoXOaNmaVjaV93QTpsA.png'],\n",
       "  'title': 'Why Give AI Agents Access to Money?',\n",
       "  'url': 'https://medium.com/@pol.avec/why-give-ai-agents-access-to-money-be460a819a9c'}\n",
       "```"
      ],
      "text/plain": [
       "{'url': 'https://medium.com/@pol.avec/why-give-ai-agents-access-to-money-be460a819a9c',\n",
       " 'title': 'Why Give AI Agents Access to Money?',\n",
       " 'imgs': (#1) ['https://miro.medium.com/1*nIukoXOaNmaVjaV93QTpsA.png'],\n",
       " 'content': 'The current wave of AI automation largely focuses on optimizing existing\\nworkflows — making them faster, more efficient, or better tailored to user\\nneeds. While valuable, this approach merely scratches the surface of AI’s\\npotential. The real revolution lies in enabling AI to drive genuine innovation\\nby participating directly in the market economy.\\n\\nTrue innovation in a market economy means finding novel applications for\\nlimited resources that create more value than they consume. For AI to do this,\\nit needs more than just the ability to analyze — it needs to effect change in\\nthe world. And in our economy, that requires the ability to pay for resources.\\n\\nThe key transformation is from AI-as-tools to AI-as-innovators. When we treat\\nAI as tools, we limit them to optimizing what exists. But innovators need\\ncapital — to acquire and experiment with resources freely. By giving AI agents\\nboth the ability to discover new tools at runtime and deploy capital to use\\nthem, we transform them from optimization engines into genuine innovators.\\n\\nConsider Replit’s AI agents that can build software tools independently. While\\npowerful, they’re still limited by their inability to access paid services or\\nAPIs they might need without human supervision. Imagine instead if these\\nagents could discover and integrate new APIs at runtime, pay for necessary\\ncloud resources, or even hire other AI services to solve parts of the problem.\\nThat’s when we’ll see true AI-driven innovation.\\n\\nThis isn’t about making existing processes better. It’s about enabling AI to\\ncreate things we haven’t imagined yet. By giving AI agents both the tools to\\ndiscover new possibilities and the capital to pursue them, we’re enabling them\\nto help create the future.\\n\\n'}"
      ]
     },
     "execution_count": 14,
     "metadata": {},
     "output_type": "execute_result"
    }
   ],
   "source": [
    "cts = arts.map(parse)\n",
    "first(cts)\n"
   ]
  },
  {
   "cell_type": "markdown",
   "metadata": {},
   "source": [
    "## Saving it all\n",
    "Let's save all the posts into markdown files & download the images"
   ]
  },
  {
   "cell_type": "code",
   "execution_count": 31,
   "metadata": {},
   "outputs": [],
   "source": [
    "from urllib.parse import urlparse\n",
    "from pathlib import Path\n",
    "import re"
   ]
  },
  {
   "cell_type": "code",
   "execution_count": null,
   "metadata": {},
   "outputs": [],
   "source": [
    "def download_image(url, save_dir):\n",
    "    \"\"\"Download image and return local path\"\"\"\n",
    "    r = httpx.get(url, follow_redirects=True)\n",
    "    r.raise_for_status()\n",
    "    # Get filename from URL or create one\n",
    "    fname = Path(urlparse(url).path).name or f\"img_{hash(url)}.jpg\"\n",
    "    fpath = save_dir / fname\n",
    "    \n",
    "    # Save image\n",
    "    fpath.write_bytes(r.content)\n",
    "    return fname\n",
    "download_image(first(cts).imgs[0], Path('.'))"
   ]
  },
  {
   "cell_type": "code",
   "execution_count": 28,
   "metadata": {},
   "outputs": [
    {
     "data": {
      "text/plain": [
       "(#1) ['images/1*nIukoXOaNmaVjaV93QTpsA.png']"
      ]
     },
     "execution_count": 28,
     "metadata": {},
     "output_type": "execute_result"
    }
   ],
   "source": [
    "L(first(cts).imgs).map(lambda img: download_image(img, Path('.'))).map(lambda iname: f'images/{iname}')\n"
   ]
  },
  {
   "cell_type": "code",
   "execution_count": 30,
   "metadata": {},
   "outputs": [],
   "source": [
    "def save_post(post, base_dir='posts'):\n",
    "    # Setup directories\n",
    "    post_dir = Path(base_dir)\n",
    "    img_dir = post_dir / 'images'\n",
    "    post_dir.mkdir(exist_ok=True)\n",
    "    img_dir.mkdir(exist_ok=True)\n",
    "    \n",
    "    # Clean title for filename\n",
    "    fname = re.sub(r'[^\\w\\s-]', '', post.title).strip().lower().replace(' ', '-')\n",
    "    \n",
    "    # Download images and collect paths\n",
    "    content = post.content\n",
    "    img_paths = L(post.imgs).map(lambda img: download_image(img, img_dir)).map(lambda iname: f'images/{iname}')\n",
    "    \n",
    "    # Create markdown with frontmatter\n",
    "    md = f\"\"\"---\n",
    "title: {post.title}\n",
    "original: {post.url}\n",
    "images:\n",
    "{'\\n'.join(f'- {img}' for img in img_paths)}\n",
    "---\n",
    "\n",
    "{content}\n",
    "\"\"\"\n",
    "    # Save markdown file\n",
    "    (post_dir / f'{fname}.md').write_text(md)\n",
    "    \n",
    "for post in cts: save_post(post)"
   ]
  }
 ],
 "metadata": {
  "kernelspec": {
   "display_name": "python3",
   "language": "python",
   "name": "python3"
  },
  "language_info": {
   "codemirror_mode": {
    "name": "ipython",
    "version": 3
   },
   "file_extension": ".py",
   "mimetype": "text/x-python",
   "name": "python",
   "nbconvert_exporter": "python",
   "pygments_lexer": "ipython3",
   "version": "3.12.3"
  }
 },
 "nbformat": 4,
 "nbformat_minor": 4
}
